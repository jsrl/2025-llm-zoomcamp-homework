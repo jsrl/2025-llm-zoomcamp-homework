{
 "cells": [
  {
   "cell_type": "code",
   "execution_count": null,
   "id": "858adb62-af12-430a-9044-8a9a7ddb6508",
   "metadata": {},
   "outputs": [],
   "source": [
    "!pip install fastembed"
   ]
  },
  {
   "cell_type": "code",
   "execution_count": 2,
   "id": "114c7f2d-8ee4-4d44-9a10-7141543d70f2",
   "metadata": {},
   "outputs": [
    {
     "name": "stderr",
     "output_type": "stream",
     "text": [
      "/usr/local/python/3.12.1/lib/python3.12/site-packages/tqdm/auto.py:21: TqdmWarning: IProgress not found. Please update jupyter and ipywidgets. See https://ipywidgets.readthedocs.io/en/stable/user_install.html\n",
      "  from .autonotebook import tqdm as notebook_tqdm\n",
      "\u001b[32m2025-06-22 15:37:03.322\u001b[0m | \u001b[33m\u001b[1mWARNING \u001b[0m | \u001b[36mfastembed.embedding\u001b[0m:\u001b[36m<module>\u001b[0m:\u001b[36m7\u001b[0m - \u001b[33m\u001b[1mDefaultEmbedding, FlagEmbedding, JinaEmbedding are deprecated.Use from fastembed import TextEmbedding instead.\u001b[0m\n"
     ]
    },
    {
     "name": "stdout",
     "output_type": "stream",
     "text": [
      "Tamaño del embedding: 512\n",
      "Valor mínimo: -0.11726373885183883\n"
     ]
    }
   ],
   "source": [
    "from fastembed.embedding import TextEmbedding\n",
    "\n",
    "# Loading model\n",
    "model = TextEmbedding(model_name=\"jinaai/jina-embeddings-v2-small-en\")\n",
    "\n",
    "# Obtain the embedding for the query\n",
    "query = \"I just discovered the course. Can I join now?\"\n",
    "embedding = list(model.embed([query]))[0]  # Obtain only the first value\n",
    "\n",
    "# Review length and minimum value\n",
    "print(f\"Tamaño del embedding: {len(embedding)}\")\n",
    "print(f\"Valor mínimo: {min(embedding)}\")"
   ]
  },
  {
   "cell_type": "code",
   "execution_count": 3,
   "id": "87aad089-e0f0-4a80-8064-4cc9903cb464",
   "metadata": {},
   "outputs": [
    {
     "name": "stdout",
     "output_type": "stream",
     "text": [
      "Cosine similarity: 0.901\n"
     ]
    }
   ],
   "source": [
    "import numpy as np\n",
    "\n",
    "query = \"I just discovered the course. Can I join now?\"\n",
    "doc = \"Can I still join the course after the start date?\"\n",
    "\n",
    "# Obtain query and doc embeddings\n",
    "query_vec = list(model.embed([query]))[0]\n",
    "doc_vec = list(model.embed([doc]))[0]\n",
    "\n",
    "# Convert to numpy arrays\n",
    "query_vec = np.array(query_vec)\n",
    "doc_vec = np.array(doc_vec)\n",
    "\n",
    "# Calculate cosinus similarity\n",
    "similarity = np.dot(query_vec, doc_vec)\n",
    "\n",
    "print(f\"Cosine similarity: {similarity:.3f}\")\n"
   ]
  },
  {
   "cell_type": "code",
   "execution_count": 4,
   "id": "e53af0bc-9c82-4a4d-9224-f379005c6966",
   "metadata": {},
   "outputs": [],
   "source": [
    "documents = [{'text': \"Yes, even if you don't register, you're still eligible to submit the homeworks.\\nBe aware, however, that there will be deadlines for turning in the final projects. So don't leave everything for the last minute.\",\n",
    "  'section': 'General course-related questions',\n",
    "  'question': 'Course - Can I still join the course after the start date?',\n",
    "  'course': 'data-engineering-zoomcamp'},\n",
    " {'text': 'Yes, we will keep all the materials after the course finishes, so you can follow the course at your own pace after it finishes.\\nYou can also continue looking at the homeworks and continue preparing for the next cohort. I guess you can also start working on your final capstone project.',\n",
    "  'section': 'General course-related questions',\n",
    "  'question': 'Course - Can I follow the course after it finishes?',\n",
    "  'course': 'data-engineering-zoomcamp'},\n",
    " {'text': \"The purpose of this document is to capture frequently asked technical questions\\nThe exact day and hour of the course will be 15th Jan 2024 at 17h00. The course will start with the first  “Office Hours'' live.1\\nSubscribe to course public Google Calendar (it works from Desktop only).\\nRegister before the course starts using this link.\\nJoin the course Telegram channel with announcements.\\nDon’t forget to register in DataTalks.Club's Slack and join the channel.\",\n",
    "  'section': 'General course-related questions',\n",
    "  'question': 'Course - When will the course start?',\n",
    "  'course': 'data-engineering-zoomcamp'},\n",
    " {'text': 'You can start by installing and setting up all the dependencies and requirements:\\nGoogle cloud account\\nGoogle Cloud SDK\\nPython 3 (installed with Anaconda)\\nTerraform\\nGit\\nLook over the prerequisites and syllabus to see if you are comfortable with these subjects.',\n",
    "  'section': 'General course-related questions',\n",
    "  'question': 'Course - What can I do before the course starts?',\n",
    "  'course': 'data-engineering-zoomcamp'},\n",
    " {'text': 'Star the repo! Share it with friends if you find it useful ❣️\\nCreate a PR if you see you can improve the text or the structure of the repository.',\n",
    "  'section': 'General course-related questions',\n",
    "  'question': 'How can we contribute to the course?',\n",
    "  'course': 'data-engineering-zoomcamp'}]"
   ]
  },
  {
   "cell_type": "code",
   "execution_count": 5,
   "id": "5aa8463a-bfad-4699-b53d-c8b51cc6ce3d",
   "metadata": {},
   "outputs": [
    {
     "name": "stdout",
     "output_type": "stream",
     "text": [
      "[0.76296845 0.81823782 0.80853974 0.71330788 0.73044992]\n",
      "Most similar index: 1\n"
     ]
    }
   ],
   "source": [
    "# Document embeddings\n",
    "doc_texts = [d[\"text\"] for d in documents]\n",
    "doc_embeddings = np.array(list(model.embed(doc_texts)))  # Matrix V\n",
    "\n",
    "# Cosine similarities with all documents\n",
    "similarities = doc_embeddings.dot(query_vec)\n",
    "\n",
    "print(similarities)\n",
    "\n",
    "# Get the index of the most similar document\n",
    "most_similar_idx = np.argmax(similarities)\n",
    "\n",
    "print(f\"Most similar index: {most_similar_idx}\")"
   ]
  },
  {
   "cell_type": "code",
   "execution_count": 6,
   "id": "01d7ddb9-6dc7-45ea-b27b-9568686a7898",
   "metadata": {},
   "outputs": [
    {
     "name": "stdout",
     "output_type": "stream",
     "text": [
      "Doc 0: similarity = 0.8515\n",
      "Doc 1: similarity = 0.8437\n",
      "Doc 2: similarity = 0.8408\n",
      "Doc 3: similarity = 0.7755\n",
      "Doc 4: similarity = 0.8086\n",
      "Most similar index: 0\n"
     ]
    }
   ],
   "source": [
    "full_texts = [doc[\"question\"] + \" \" + doc[\"text\"] for doc in documents]\n",
    "\n",
    "# Compute embeddings for the full_texts\n",
    "full_embeddings = np.array(list(model.embed(full_texts)))\n",
    "\n",
    "# Compute cosine similarities\n",
    "similarities = full_embeddings.dot(query_vec)\n",
    "\n",
    "# Print all similarities\n",
    "for i, sim in enumerate(similarities):\n",
    "    print(f\"Doc {i}: similarity = {sim:.4f}\")\n",
    "\n",
    "# Get the index with the highest similarity\n",
    "most_similar_idx = np.argmax(similarities)\n",
    "print(f\"Most similar index: {most_similar_idx}\")"
   ]
  },
  {
   "cell_type": "code",
   "execution_count": 7,
   "id": "456f50db-1323-47f1-8a88-d73b9c7ebec0",
   "metadata": {},
   "outputs": [],
   "source": [
    "# Because now we're including the \"question\" field in the embedding.\n",
    "# Concatenating the question helps the model better understand the relevance, leading to a higher cosine similarity."
   ]
  },
  {
   "cell_type": "code",
   "execution_count": 8,
   "id": "c1884e21-bc77-43e6-aec2-7dba0aa53672",
   "metadata": {},
   "outputs": [
    {
     "name": "stdout",
     "output_type": "stream",
     "text": [
      "Vector length: 384\n"
     ]
    }
   ],
   "source": [
    "model = TextEmbedding(model_name=\"BAAI/bge-small-en\")\n",
    "\n",
    "# Test embedding\n",
    "vec = list(model.embed([\"test sentence\"]))[0]\n",
    "print(f\"Vector length: {len(vec)}\")  # Output: 384"
   ]
  },
  {
   "cell_type": "code",
   "execution_count": 1,
   "id": "37302c47-b18d-4bd1-b7b3-23fcde6487e5",
   "metadata": {},
   "outputs": [],
   "source": [
    "import requests \n",
    "\n",
    "docs_url = 'https://github.com/alexeygrigorev/llm-rag-workshop/raw/main/notebooks/documents.json'\n",
    "docs_response = requests.get(docs_url)\n",
    "documents_raw = docs_response.json()\n",
    "\n",
    "\n",
    "documents = []\n",
    "\n",
    "for course in documents_raw:\n",
    "    course_name = course['course']\n",
    "    if course_name != 'machine-learning-zoomcamp':\n",
    "        continue\n",
    "\n",
    "    for doc in course['documents']:\n",
    "        doc['course'] = course_name\n",
    "        documents.append(doc)"
   ]
  },
  {
   "cell_type": "code",
   "execution_count": 4,
   "id": "6592bfb2-7b76-438c-be4c-477d24d340b1",
   "metadata": {},
   "outputs": [
    {
     "data": {
      "text/plain": [
       "{'text': 'Machine Learning Zoomcamp FAQ\\nThe purpose of this document is to capture frequently asked technical questions.\\nWe did this for our data engineering course and it worked quite well. Check this document for inspiration on how to structure your questions and answers:\\nData Engineering Zoomcamp FAQ\\nIn the course GitHub repository there’s a link. Here it is: https://airtable.com/shryxwLd0COOEaqXo\\nwork',\n",
       " 'section': 'General course-related questions',\n",
       " 'question': 'How do I sign up?',\n",
       " 'course': 'machine-learning-zoomcamp'}"
      ]
     },
     "execution_count": 4,
     "metadata": {},
     "output_type": "execute_result"
    }
   ],
   "source": [
    "documents[0]"
   ]
  },
  {
   "cell_type": "code",
   "execution_count": 5,
   "id": "5f6d4bcc-dd40-46b1-be5c-3620051c503a",
   "metadata": {},
   "outputs": [
    {
     "name": "stderr",
     "output_type": "stream",
     "text": [
      "/usr/local/python/3.12.1/lib/python3.12/site-packages/tqdm/auto.py:21: TqdmWarning: IProgress not found. Please update jupyter and ipywidgets. See https://ipywidgets.readthedocs.io/en/stable/user_install.html\n",
      "  from .autonotebook import tqdm as notebook_tqdm\n"
     ]
    }
   ],
   "source": [
    "from qdrant_client import QdrantClient\n",
    "\n",
    "client = QdrantClient(\"http://localhost:6333\")"
   ]
  },
  {
   "cell_type": "code",
   "execution_count": 6,
   "id": "c6da3f88-a1e7-4b23-8c17-732745e95a1f",
   "metadata": {},
   "outputs": [
    {
     "name": "stderr",
     "output_type": "stream",
     "text": [
      "/tmp/ipykernel_27136/493805718.py:4: DeprecationWarning: `recreate_collection` method is deprecated and will be removed in the future. Use `collection_exists` to check collection existence and `create_collection` instead.\n",
      "  client.recreate_collection(\n"
     ]
    },
    {
     "data": {
      "text/plain": [
       "True"
      ]
     },
     "execution_count": 6,
     "metadata": {},
     "output_type": "execute_result"
    }
   ],
   "source": [
    "from qdrant_client.models import Distance, VectorParams, PointStruct\n",
    "\n",
    "# Create collection\n",
    "client.recreate_collection(\n",
    "    collection_name=\"zoomcamp-homework\",\n",
    "    vectors_config=VectorParams(size=384, distance=Distance.COSINE),\n",
    ")"
   ]
  },
  {
   "cell_type": "code",
   "execution_count": 9,
   "id": "cd14439f-3116-4bb5-a858-a56fe4042681",
   "metadata": {},
   "outputs": [
    {
     "name": "stderr",
     "output_type": "stream",
     "text": [
      "100%|████████████████████████████████████████████████████████████████████████████████████████████████| 6/6 [02:12<00:00, 22.16s/it]\n"
     ]
    }
   ],
   "source": [
    "from fastembed import TextEmbedding\n",
    "from tqdm import tqdm\n",
    "\n",
    "model = TextEmbedding(model_name=\"BAAI/bge-small-en\")\n",
    "batch_size = 64\n",
    "texts = [doc['question'] + ' ' + doc['text'] for doc in documents]\n",
    "\n",
    "embeddings = []\n",
    "for i in tqdm(range(0, len(texts), batch_size)):\n",
    "    batch = texts[i:i+batch_size]\n",
    "    embeddings.extend(model.embed(batch))\n"
   ]
  },
  {
   "cell_type": "code",
   "execution_count": 12,
   "id": "ed27213a-45a9-4feb-bac5-43b1b9fc7ff2",
   "metadata": {},
   "outputs": [],
   "source": [
    "from qdrant_client import models\n",
    "import uuid\n",
    "\n",
    "client.upload_points(\n",
    "    collection_name=\"zoomcamp-homework\",\n",
    "    points=[\n",
    "        models.PointStruct(\n",
    "            id=uuid.uuid4().hex,\n",
    "            vector=embeddings[i],\n",
    "            payload={\n",
    "                \"text\": documents[i][\"text\"],\n",
    "                \"question\": documents[i][\"question\"],\n",
    "                \"course\": documents[i][\"course\"],\n",
    "            }\n",
    "        )\n",
    "        for i in range(len(documents))\n",
    "    ]\n",
    ")"
   ]
  },
  {
   "cell_type": "code",
   "execution_count": 15,
   "id": "e8857d96-d408-4e2a-b4e7-d94a2c79a5d9",
   "metadata": {},
   "outputs": [
    {
     "name": "stdout",
     "output_type": "stream",
     "text": [
      "Score: 0.87031734\n"
     ]
    },
    {
     "name": "stderr",
     "output_type": "stream",
     "text": [
      "/tmp/ipykernel_27136/3988937341.py:3: DeprecationWarning: `search` method is deprecated and will be removed in the future. Use `query_points` instead.\n",
      "  search_result = client.search(\n"
     ]
    }
   ],
   "source": [
    "query = \"I just discovered the course. Can I join now?\"\n",
    "query_vector = list(model.embed([query]))[0]\n",
    "search_result = client.search(\n",
    "    collection_name=\"zoomcamp-homework\",\n",
    "    query_vector=query_vector,\n",
    "    limit=1  # we only want the best result\n",
    ")\n",
    "print(\"Score:\", search_result[0].score)"
   ]
  }
 ],
 "metadata": {
  "kernelspec": {
   "display_name": "Python 3 (ipykernel)",
   "language": "python",
   "name": "python3"
  },
  "language_info": {
   "codemirror_mode": {
    "name": "ipython",
    "version": 3
   },
   "file_extension": ".py",
   "mimetype": "text/x-python",
   "name": "python",
   "nbconvert_exporter": "python",
   "pygments_lexer": "ipython3",
   "version": "3.12.1"
  }
 },
 "nbformat": 4,
 "nbformat_minor": 5
}
