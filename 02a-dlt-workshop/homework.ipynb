{
 "cells": [
  {
   "cell_type": "code",
   "execution_count": 1,
   "id": "680b41d8-5ec4-47cf-9837-e2a697e27509",
   "metadata": {},
   "outputs": [],
   "source": [
    "!pip install -q \"dlt[qdrant]\" \"qdrant-client[fastembed]\""
   ]
  },
  {
   "cell_type": "code",
   "execution_count": 2,
   "id": "07240e01-5577-41dd-b8b9-ae0196d20168",
   "metadata": {},
   "outputs": [
    {
     "name": "stdout",
     "output_type": "stream",
     "text": [
      "\u001b[39mdlt 1.12.3\u001b[0m\n"
     ]
    }
   ],
   "source": [
    "!dlt --version"
   ]
  },
  {
   "cell_type": "code",
   "execution_count": 3,
   "id": "e21cb1bf-2aec-4852-ab61-efc581686d63",
   "metadata": {},
   "outputs": [],
   "source": [
    "from dlt.destinations import qdrant\n",
    "\n",
    "qdrant_destination = qdrant(\n",
    "  qd_path=\"db.qdrant\", \n",
    ")"
   ]
  },
  {
   "cell_type": "code",
   "execution_count": 5,
   "id": "5fee1c84-f80c-4cb0-98f7-cea4c16966cc",
   "metadata": {},
   "outputs": [
    {
     "name": "stderr",
     "output_type": "stream",
     "text": [
      "/usr/local/python/3.12.1/lib/python3.12/site-packages/tqdm/auto.py:21: TqdmWarning: IProgress not found. Please update jupyter and ipywidgets. See https://ipywidgets.readthedocs.io/en/stable/user_install.html\n",
      "  from .autonotebook import tqdm as notebook_tqdm\n",
      "Fetching 5 files: 100%|████████████████████████████████████████████████████████████████████████████████████████████████████████████████████████████████████████████████████| 5/5 [00:00<00:00, 13.05it/s]\n"
     ]
    },
    {
     "name": "stdout",
     "output_type": "stream",
     "text": [
      "Run started at 2025-07-06 12:14:31.004278+00:00 and COMPLETED in 6.87 seconds with 4 steps.\n",
      "Step extract COMPLETED in 0.45 seconds.\n",
      "\n",
      "Load package 1751804073.2918656 is EXTRACTED and NOT YET LOADED to the destination and contains no failed jobs\n",
      "\n",
      "Step normalize COMPLETED in 0.08 seconds.\n",
      "Normalized data for the following tables:\n",
      "- _dlt_pipeline_state: 1 row(s)\n",
      "- zoomcamp_data: 948 row(s)\n",
      "\n",
      "Load package 1751804073.2918656 is NORMALIZED and NOT YET LOADED to the destination and contains no failed jobs\n",
      "\n",
      "Step load COMPLETED in 4.06 seconds.\n",
      "Pipeline zoomcamp_pipeline load step completed in 4.04 seconds\n",
      "1 load package(s) were loaded to destination qdrant and into dataset zoomcamp_tagged_data\n",
      "The qdrant destination used /workspaces/2025-llm-zoomcamp-homework/02a-dlt-workshop/db.qdrant location to store data\n",
      "Load package 1751804073.2918656 is LOADED and contains no failed jobs\n",
      "\n",
      "Step run COMPLETED in 6.87 seconds.\n",
      "Pipeline zoomcamp_pipeline load step completed in 4.04 seconds\n",
      "1 load package(s) were loaded to destination qdrant and into dataset zoomcamp_tagged_data\n",
      "The qdrant destination used /workspaces/2025-llm-zoomcamp-homework/02a-dlt-workshop/db.qdrant location to store data\n",
      "Load package 1751804073.2918656 is LOADED and contains no failed jobs\n"
     ]
    }
   ],
   "source": [
    "import dlt\n",
    "import requests\n",
    "\n",
    "# Create DLT resource\n",
    "@dlt.resource(write_disposition=\"replace\", name=\"zoomcamp_data\")\n",
    "def zoomcamp_data():\n",
    "    docs_url = 'https://github.com/alexeygrigorev/llm-rag-workshop/raw/main/notebooks/documents.json'\n",
    "    docs_response = requests.get(docs_url)\n",
    "    documents_raw = docs_response.json()\n",
    "\n",
    "    for course in documents_raw:\n",
    "        course_name = course['course']\n",
    "\n",
    "        for doc in course['documents']:\n",
    "            doc['course'] = course_name\n",
    "            yield doc\n",
    "\n",
    "# Create and run the pipeline\n",
    "pipeline = dlt.pipeline(\n",
    "    pipeline_name=\"zoomcamp_pipeline\",\n",
    "    destination=qdrant_destination,\n",
    "    dataset_name=\"zoomcamp_tagged_data\"\n",
    "\n",
    ")\n",
    "\n",
    "load_info = pipeline.run(zoomcamp_data())\n",
    "print(pipeline.last_trace)"
   ]
  },
  {
   "cell_type": "code",
   "execution_count": 8,
   "id": "012326b4-6d1c-4db9-a99a-cc7a9e8d960e",
   "metadata": {},
   "outputs": [
    {
     "name": "stdout",
     "output_type": "stream",
     "text": [
      "{\"collections\": {\"zoomcamp_tagged_data\": {\"vectors\": {\"fast-bge-small-en\": {\"size\": 384, \"distance\": \"Cosine\", \"hnsw_config\": null, \"quantization_config\": null, \"on_disk\": null, \"datatype\": null, \"multivector_config\": null}}, \"shard_number\": null, \"sharding_method\": null, \"replication_factor\": null, \"write_consistency_factor\": null, \"on_disk_payload\": null, \"hnsw_config\": null, \"wal_config\": null, \"optimizers_config\": null, \"init_from\": null, \"quantization_config\": null, \"sparse_vectors\": null, \"strict_mode_config\": null}, \"zoomcamp_tagged_data__dlt_pipeline_state\": {\"vectors\": {\"fast-bge-small-en\": {\"size\": 384, \"distance\": \"Cosine\", \"hnsw_config\": null, \"quantization_config\": null, \"on_disk\": null, \"datatype\": null, \"multivector_config\": null}}, \"shard_number\": null, \"sharding_method\": null, \"replication_factor\": null, \"write_consistency_factor\": null, \"on_disk_payload\": null, \"hnsw_config\": null, \"wal_config\": null, \"optimizers_config\": null, \"init_from\": null, \"quantization_config\": null, \"sparse_vectors\": null, \"strict_mode_config\": null}, \"zoomcamp_tagged_data__dlt_loads\": {\"vectors\": {\"fast-bge-small-en\": {\"size\": 384, \"distance\": \"Cosine\", \"hnsw_config\": null, \"quantization_config\": null, \"on_disk\": null, \"datatype\": null, \"multivector_config\": null}}, \"shard_number\": null, \"sharding_method\": null, \"replication_factor\": null, \"write_consistency_factor\": null, \"on_disk_payload\": null, \"hnsw_config\": null, \"wal_config\": null, \"optimizers_config\": null, \"init_from\": null, \"quantization_config\": null, \"sparse_vectors\": null, \"strict_mode_config\": null}, \"zoomcamp_tagged_data__dlt_version\": {\"vectors\": {\"fast-bge-small-en\": {\"size\": 384, \"distance\": \"Cosine\", \"hnsw_config\": null, \"quantization_config\": null, \"on_disk\": null, \"datatype\": null, \"multivector_config\": null}}, \"shard_number\": null, \"sharding_method\": null, \"replication_factor\": null, \"write_consistency_factor\": null, \"on_disk_payload\": null, \"hnsw_config\": null, \"wal_config\": null, \"optimizers_config\": null, \"init_from\": null, \"quantization_config\": null, \"sparse_vectors\": null, \"strict_mode_config\": null}, \"zoomcamp_tagged_data_zoomcamp_data\": {\"vectors\": {\"fast-bge-small-en\": {\"size\": 384, \"distance\": \"Cosine\", \"hnsw_config\": null, \"quantization_config\": null, \"on_disk\": null, \"datatype\": null, \"multivector_config\": null}}, \"shard_number\": null, \"sharding_method\": null, \"replication_factor\": null, \"write_consistency_factor\": null, \"on_disk_payload\": null, \"hnsw_config\": null, \"wal_config\": null, \"optimizers_config\": null, \"init_from\": null, \"quantization_config\": null, \"sparse_vectors\": null, \"strict_mode_config\": null}}, \"aliases\": {}}"
     ]
    }
   ],
   "source": [
    "!cat db.qdrant/meta.json"
   ]
  }
 ],
 "metadata": {
  "kernelspec": {
   "display_name": "Python 3 (ipykernel)",
   "language": "python",
   "name": "python3"
  },
  "language_info": {
   "codemirror_mode": {
    "name": "ipython",
    "version": 3
   },
   "file_extension": ".py",
   "mimetype": "text/x-python",
   "name": "python",
   "nbconvert_exporter": "python",
   "pygments_lexer": "ipython3",
   "version": "3.12.1"
  }
 },
 "nbformat": 4,
 "nbformat_minor": 5
}
